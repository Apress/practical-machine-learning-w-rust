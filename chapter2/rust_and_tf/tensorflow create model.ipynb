{
 "cells": [
  {
   "cell_type": "code",
   "execution_count": 15,
   "metadata": {},
   "outputs": [],
   "source": [
    "import matplotlib.pyplot as plt\n",
    "%matplotlib inline\n",
    "import tensorflow as tf\n",
    "import numpy as np\n",
    "\n",
    "from numpy import genfromtxt\n",
    "from sklearn.datasets import load_boston\n",
    "from tensorflow.python.saved_model.builder import SavedModelBuilder\n",
    "from tensorflow.python.saved_model.signature_def_utils import build_signature_def\n",
    "from tensorflow.python.saved_model.signature_constants import REGRESS_METHOD_NAME\n",
    "from tensorflow.python.saved_model.tag_constants import TRAINING, SERVING\n",
    "from tensorflow.python.saved_model.utils import build_tensor_info"
   ]
  },
  {
   "cell_type": "code",
   "execution_count": 19,
   "metadata": {},
   "outputs": [],
   "source": [
    "learning_rate = 0.01\n",
    "cost_history = np.empty(shape=[1],dtype=float)\n",
    "\n",
    "X = tf.placeholder(tf.float64,[None,n_dim], name=\"x\")\n",
    "X_test = tf.placeholder(tf.float64,[None,n_dim], name=\"x_test\")\n",
    "Y = tf.placeholder(tf.float64,[None,1], name=\"y\")\n",
    "W = tf.Variable(tf.ones([n_dim,1],dtype=tf.float64), name=\"w\")\n",
    "\n",
    "init = tf.variables_initializer(tf.global_variables(), name=\"init\")"
   ]
  },
  {
   "cell_type": "code",
   "execution_count": 20,
   "metadata": {},
   "outputs": [],
   "source": [
    "y_ = tf.matmul(X, W, name=\"y_hat\")\n",
    "y_preds = tf.matmul(X_test, W, name=\"y_preds\")\n",
    "cost = tf.reduce_mean(tf.square(y_ - Y))\n",
    "training_step = tf.train.GradientDescentOptimizer(learning_rate).minimize(cost, name=\"train\")"
   ]
  },
  {
   "cell_type": "markdown",
   "metadata": {},
   "source": [
    "http://aqibsaeed.github.io/2016-07-07-TensorflowLR/"
   ]
  },
  {
   "cell_type": "code",
   "execution_count": 28,
   "metadata": {},
   "outputs": [
    {
     "name": "stdout",
     "output_type": "stream",
     "text": [
      "INFO:tensorflow:Assets added to graph.\n",
      "INFO:tensorflow:No assets to write.\n",
      "INFO:tensorflow:SavedModel written to: boston_regression/saved_model.pb\n"
     ]
    }
   ],
   "source": [
    "directory = 'boston_regression'\n",
    "builder = SavedModelBuilder(directory)\n",
    "\n",
    "with tf.Session(graph=tf.get_default_graph()) as sess:\n",
    "    sess.run(init)\n",
    "\n",
    "    signature_inputs = {\n",
    "        \"x\": build_tensor_info(X),\n",
    "        \"x_test\": build_tensor_info(X_test),\n",
    "        \"y\": build_tensor_info(Y)\n",
    "    }\n",
    "    signature_outputs = {\n",
    "        \"out\": build_tensor_info(y_preds)\n",
    "    }\n",
    "    signature_def = build_signature_def(\n",
    "        signature_inputs, signature_outputs,\n",
    "        REGRESS_METHOD_NAME)\n",
    "    builder.add_meta_graph_and_variables(\n",
    "        sess, [TRAINING, SERVING],\n",
    "        signature_def_map={\n",
    "            REGRESS_METHOD_NAME: signature_def\n",
    "        },\n",
    "        assets_collection=tf.get_collection(tf.GraphKeys.ASSET_FILEPATHS))\n",
    "    builder.save(as_text=False)"
   ]
  },
  {
   "cell_type": "code",
   "execution_count": null,
   "metadata": {},
   "outputs": [],
   "source": []
  }
 ],
 "metadata": {
  "kernelspec": {
   "display_name": "Python 3",
   "language": "python",
   "name": "python3"
  },
  "language_info": {
   "codemirror_mode": {
    "name": "ipython",
    "version": 3
   },
   "file_extension": ".py",
   "mimetype": "text/x-python",
   "name": "python",
   "nbconvert_exporter": "python",
   "pygments_lexer": "ipython3",
   "version": "3.5.2"
  }
 },
 "nbformat": 4,
 "nbformat_minor": 2
}
